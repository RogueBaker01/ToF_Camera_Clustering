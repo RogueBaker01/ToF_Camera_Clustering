{
 "cells": [
  {
   "cell_type": "code",
   "execution_count": 1,
   "id": "31ba9e98",
   "metadata": {},
   "outputs": [
    {
     "name": "stdout",
     "output_type": "stream",
     "text": [
      "Jupyter environment detected. Enabling Open3D WebVisualizer.\n",
      "[Open3D INFO] WebRTC GUI backend enabled.\n",
      "[Open3D INFO] WebRTCWindowSystem: HTTP handshake server disabled.\n"
     ]
    }
   ],
   "source": [
    "import numpy as np\n",
    "import open3d as o3d\n",
    "\n",
    "x = np.loadtxt(\"Datos/array_x1.txt\")\n",
    "y = np.loadtxt(\"Datos/array_y1.txt\")\n",
    "z= np.loadtxt(\"Datos/array_z1.txt\")\n"
   ]
  },
  {
   "cell_type": "code",
   "execution_count": null,
   "id": "5dc6f388",
   "metadata": {},
   "outputs": [],
   "source": [
    "#Combina los arrays en una matriz\n",
    "xyz = np.column_stack((x,y,z))\n",
    "\n",
    "# Crea un objeto PointCloud de Open3D\n",
    "pcd = o3d.geometry.PointCloud()\n",
    "pcd.points = o3d.utility.Vector3dVector(xyz)\n",
    "\n",
    "# Guarda una nube de puntos en formato PLY\n",
    "o3d.io.write_point_cloud(\"nube_puntos.ply\", pcd)\n"
   ]
  },
  {
   "cell_type": "code",
   "execution_count": null,
   "id": "73c91e52",
   "metadata": {},
   "outputs": [],
   "source": []
  }
 ],
 "metadata": {
  "kernelspec": {
   "display_name": "Python 3",
   "language": "python",
   "name": "python3"
  },
  "language_info": {
   "codemirror_mode": {
    "name": "ipython",
    "version": 3
   },
   "file_extension": ".py",
   "mimetype": "text/x-python",
   "name": "python",
   "nbconvert_exporter": "python",
   "pygments_lexer": "ipython3",
   "version": "3.12.1"
  }
 },
 "nbformat": 4,
 "nbformat_minor": 5
}
